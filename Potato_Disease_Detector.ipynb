{
 "cells": [
  {
   "cell_type": "code",
   "execution_count": null,
   "id": "cccd85ab-d55f-4bad-be82-9133c81b4d04",
   "metadata": {},
   "outputs": [],
   "source": [
    "!pip install tensorflow"
   ]
  },
  {
   "cell_type": "code",
   "execution_count": null,
   "id": "8c3a826c-88ff-4c4f-872b-7c64645dea84",
   "metadata": {},
   "outputs": [],
   "source": [
    "import tensorflow as tf"
   ]
  },
  {
   "cell_type": "code",
   "execution_count": null,
   "id": "872c2521-0e75-4552-ad41-399822c0e7bf",
   "metadata": {},
   "outputs": [],
   "source": [
    " from tensorflow.keras import models, layers"
   ]
  },
  {
   "cell_type": "code",
   "execution_count": null,
   "id": "ce62f115-8a47-4975-8675-e53fdc7907a9",
   "metadata": {},
   "outputs": [],
   "source": [
    "import matplotlib.pyplot as plt"
   ]
  },
  {
   "cell_type": "code",
   "execution_count": null,
   "id": "181b6fab-a19a-4443-b162-bab4b1ff78dc",
   "metadata": {},
   "outputs": [],
   "source": [
    "import matplotlib.pyplot as plt"
   ]
  },
  {
   "cell_type": "code",
   "execution_count": null,
   "id": "900872d9-4a96-45df-8b59-1712ebbd2121",
   "metadata": {},
   "outputs": [],
   "source": [
    "BATCH_SIZE = 20\n",
    "IMAGE_SIZE = 255\n",
    "CHANNEL = 3\n",
    "EPOCHS = 20"
   ]
  },
  {
   "cell_type": "code",
   "execution_count": null,
   "id": "58316753-f2d8-4871-a310-02e7e840f796",
   "metadata": {},
   "outputs": [],
   "source": [
    "dataset = tf.keras.preprocessing.image_dataset_from_directory(\n",
    "    directory= \"Potato_Samples\",\n",
    "    seed = 123,\n",
    "    shuffle = True,\n",
    "    image_size =[IMAGE_SIZE,IMAGE_SIZE],\n",
    "    batch_size=BATCH_SIZE,\n",
    ")"
   ]
  },
  {
   "cell_type": "code",
   "execution_count": null,
   "id": "8ebb8e60-a38c-4725-9e3b-e56b75906b19",
   "metadata": {},
   "outputs": [],
   "source": [
    "len(dataset)"
   ]
  },
  {
   "cell_type": "code",
   "execution_count": null,
   "id": "6c79ca50-b7dd-4cef-8cae-aa4e6bb4558a",
   "metadata": {},
   "outputs": [],
   "source": [
    "1500/20"
   ]
  },
  {
   "cell_type": "code",
   "execution_count": null,
   "id": "23bc0ac1-1985-4ab7-99e2-3c7398cde9c1",
   "metadata": {},
   "outputs": [],
   "source": [
    "Class_names = dataset.class_names"
   ]
  },
  {
   "cell_type": "code",
   "execution_count": null,
   "id": "86df5d1e-88fe-43b9-b5fb-e8d48c159f5a",
   "metadata": {},
   "outputs": [],
   "source": [
    "import numpy as np\n",
    "# for batch_size , label_size in dataset.take(1):\n",
    "    # print(\"image shape :\", batch_size.shape)\n",
    "    # print(\"label :\", label_size.numpy)"
   ]
  },
  {
   "cell_type": "code",
   "execution_count": null,
   "id": "b42777b1-7a2f-4f18-87c1-64e3dec9b677",
   "metadata": {},
   "outputs": [],
   "source": []
  }
 ],
 "metadata": {
  "kernelspec": {
   "display_name": "Python 3 (ipykernel)",
   "language": "python",
   "name": "python3"
  },
  "language_info": {
   "codemirror_mode": {
    "name": "ipython",
    "version": 3
   },
   "file_extension": ".py",
   "mimetype": "text/x-python",
   "name": "python",
   "nbconvert_exporter": "python",
   "pygments_lexer": "ipython3",
   "version": "3.12.4"
  }
 },
 "nbformat": 4,
 "nbformat_minor": 5
}
